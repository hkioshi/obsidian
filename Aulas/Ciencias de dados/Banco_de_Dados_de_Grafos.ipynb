{
  "nbformat": 4,
  "nbformat_minor": 0,
  "metadata": {
    "colab": {
      "provenance": []
    },
    "kernelspec": {
      "name": "python3",
      "display_name": "Python 3"
    },
    "language_info": {
      "name": "python"
    }
  },
  "cells": [
    {
      "cell_type": "code",
      "source": [
        "import os\n",
        "!pip install neo4j\n",
        "from neo4j import GraphDatabase\n",
        "\n",
        "senha = \"FTIYkBWfEqmr2s-u7m_T6dg3Nm2mfNK9IUTUwVEuvFA\"\n",
        "url = \"neo4j+s://0daccb9c.databases.neo4j.io\"\n",
        "usuario = \"neo4j\""
      ],
      "metadata": {
        "colab": {
          "base_uri": "https://localhost:8080/"
        },
        "id": "n6tc1IEuzmOK",
        "outputId": "834aab20-5949-4435-ca06-65876b91aaba"
      },
      "execution_count": 1,
      "outputs": [
        {
          "output_type": "stream",
          "name": "stdout",
          "text": [
            "Collecting neo4j\n",
            "  Downloading neo4j-5.25.0-py3-none-any.whl.metadata (5.7 kB)\n",
            "Requirement already satisfied: pytz in /usr/local/lib/python3.10/dist-packages (from neo4j) (2024.2)\n",
            "Downloading neo4j-5.25.0-py3-none-any.whl (296 kB)\n",
            "\u001b[?25l   \u001b[90m━━━━━━━━━━━━━━━━━━━━━━━━━━━━━━━━━━━━━━━━\u001b[0m \u001b[32m0.0/296.6 kB\u001b[0m \u001b[31m?\u001b[0m eta \u001b[36m-:--:--\u001b[0m\r\u001b[2K   \u001b[91m━━━━━━━━━━━━━━━━━━━━━━━━\u001b[0m\u001b[91m╸\u001b[0m\u001b[90m━━━━━━━━━━━━━━━\u001b[0m \u001b[32m184.3/296.6 kB\u001b[0m \u001b[31m4.9 MB/s\u001b[0m eta \u001b[36m0:00:01\u001b[0m\r\u001b[2K   \u001b[90m━━━━━━━━━━━━━━━━━━━━━━━━━━━━━━━━━━━━━━━━\u001b[0m \u001b[32m296.6/296.6 kB\u001b[0m \u001b[31m4.0 MB/s\u001b[0m eta \u001b[36m0:00:00\u001b[0m\n",
            "\u001b[?25hInstalling collected packages: neo4j\n",
            "Successfully installed neo4j-5.25.0\n"
          ]
        }
      ]
    },
    {
      "cell_type": "code",
      "execution_count": 2,
      "metadata": {
        "colab": {
          "base_uri": "https://localhost:8080/"
        },
        "id": "mLKToaZZzM-6",
        "outputId": "36e56657-fa27-4646-a81d-8a1fffa64df2"
      },
      "outputs": [
        {
          "output_type": "stream",
          "name": "stderr",
          "text": [
            "<ipython-input-2-b05cf15b43ec>:13: DeprecationWarning: write_transaction has been renamed to execute_write\n",
            "  session.write_transaction(self._zera_base)\n",
            "<ipython-input-2-b05cf15b43ec>:14: DeprecationWarning: write_transaction has been renamed to execute_write\n",
            "  session.write_transaction(self._cria_amizade)\n"
          ]
        },
        {
          "output_type": "stream",
          "name": "stdout",
          "text": [
            "base carregada\n"
          ]
        }
      ],
      "source": [
        "# Exemplos\n",
        "# https://gist.github.com/wjgilmore/8ba5f31ef1435dc04c52\n",
        "\n",
        "class CriarAmizades:\n",
        "  def __init__(self, uri, user, password):\n",
        "    self.driver = GraphDatabase.driver(uri, auth=(user, password))\n",
        "\n",
        "  def close(self):\n",
        "    self.driver.close()\n",
        "\n",
        "  def carrega_base(self):\n",
        "    with self.driver.session() as session:\n",
        "      session.write_transaction(self._zera_base)\n",
        "      session.write_transaction(self._cria_amizade)\n",
        "\n",
        "  @staticmethod\n",
        "  def _zera_base(tx):\n",
        "    tx.run(\"\"\"\n",
        "MATCH (n)\n",
        "DETACH DELETE n\n",
        "\"\"\")\n",
        "\n",
        "  @staticmethod\n",
        "  def _cria_amizade(tx):\n",
        "    tx.run(\"\"\"\n",
        "CREATE (denise:PESSOA {nome: 'Denise'})\n",
        "CREATE (kelly:PESSOA {nome: 'Kelly'})\n",
        "CREATE (joao:PESSOA {nome: 'João'})\n",
        "CREATE (maria:PESSOA {nome: 'Maria'})\n",
        "CREATE (david:PESSOA {nome: 'David'})\n",
        "CREATE (theo:PESSOA {nome: 'Théo'})\n",
        "CREATE (horacio:PESSOA {nome: 'Horácio'})\n",
        "CREATE (jose:PESSOA {nome: 'José'})\n",
        "CREATE (ana:PESSOA {nome: 'Ana'})\n",
        "CREATE (luiza:PESSOA {nome: 'Luiza'})\n",
        "CREATE (roberto:PESSOA {nome: 'Roberto'})\n",
        "CREATE (felipe:PESSOA {nome: 'Felipe'})\n",
        "CREATE (carlos:PESSOA {nome: 'Carlos'})\n",
        "CREATE (julia:PESSOA {nome: 'Júlia'})\n",
        "CREATE (amanda:PESSOA {nome: 'Amanda'})\n",
        "CREATE (ricardo:PESSOA {nome: 'Ricardo'})\n",
        "CREATE (gabriel:PESSOA {nome: 'Gabriel'})\n",
        "\n",
        "\n",
        "CREATE (charlie:CACHORRO {nome: 'Charlie', raca: \"labrador\"})\n",
        "CREATE (bobby:CACHORRO {nome: 'Bobby', raca: \"corgi\"})\n",
        "CREATE (mia:CACHORRO {nome: 'Mia', raca: \"srd\"})\n",
        "CREATE (valentina:CACHORRO {nome: 'Valentina', raca: \"corgi\"})\n",
        "CREATE (lola:CACHORRO {nome: 'Lola', raca: \"poodle\"})\n",
        "CREATE (rex:CACHORRO {nome: 'Rex', raca: \"pastor-alemão\"})\n",
        "CREATE (lady:CACHORRO {nome: 'Lady', raca: \"golden retriever\"})\n",
        "CREATE (frodo:CACHORRO {nome: 'Frodo', raca: \"beagle\"})\n",
        "CREATE (bella:CACHORRO {nome: 'Bella', raca: \"bulldog\"})\n",
        "\n",
        "CREATE (joao)-[:AMIGO {nivel: \"bff\"}]->(denise)\n",
        "CREATE (joao)-[:AMIGO {nivel: \"conhecido\"}]->(maria)\n",
        "CREATE (kelly)-[:AMIGO]->(joao)\n",
        "CREATE (kelly)-[:AMIGO]->(denise)\n",
        "CREATE (maria)-[:AMIGO {nivel: \"bff\"}]->(denise)\n",
        "CREATE (david)-[:AMIGO]->(kelly)\n",
        "CREATE (david)-[:AMIGO]->(joao)\n",
        "CREATE (david)-[:AMIGO]->(theo)\n",
        "CREATE (david)-[:AMIGO]->(jose)\n",
        "CREATE (david)-[:AMIGO]->(horacio)\n",
        "CREATE (jose)-[:AMIGO]->(horacio)\n",
        "CREATE (carlos)-[:AMIGO {nivel: \"conhecido\"}]->(julia)\n",
        "CREATE (carlos)-[:AMIGO {nivel: \"bff\"}]->(ana)\n",
        "CREATE (amanda)-[:AMIGO]->(julia)\n",
        "CREATE (amanda)-[:AMIGO]->(ricardo)\n",
        "CREATE (gabriel)-[:AMIGO {nivel: \"bff\"}]->(ricardo)\n",
        "CREATE (gabriel)-[:AMIGO]->(felipe)\n",
        "CREATE (julia)-[:AMIGO]->(luiza)\n",
        "CREATE (ana)-[:AMIGO {nivel: \"conhecido\"}]->(luiza)\n",
        "CREATE (ana)-[:AMIGO {nivel: \"bff\"}]->(maria)\n",
        "CREATE (roberto)-[:AMIGO]->(felipe)\n",
        "CREATE (luiza)-[:AMIGO]->(roberto)\n",
        "CREATE (felipe)-[:AMIGO {nivel: \"conhecido\"}]->(luiza)\n",
        "CREATE (ana)-[:AMIGO {nivel: \"bff\"}]->(kelly)\n",
        "\n",
        "CREATE (maria)-[:DONO]->(mia)\n",
        "CREATE (maria)-[:DONO]->(bobby)\n",
        "CREATE (denise)-[:DONO]->(charlie)\n",
        "CREATE (kelly)-[:DONO]->(valentina)\n",
        "CREATE (carlos)-[:DONO]->(lady)\n",
        "CREATE (amanda)-[:DONO]->(lola)\n",
        "CREATE (gabriel)-[:DONO]->(rex)\n",
        "CREATE (ana)-[:DONO]->(frodo)\n",
        "CREATE (luiza)-[:DONO]->(bella)\n",
        "\"\"\")\n",
        "\n",
        "\n",
        "db = CriarAmizades(url, usuario, senha)\n",
        "db.carrega_base()\n",
        "db.close()\n",
        "print(\"base carregada\")"
      ]
    },
    {
      "cell_type": "markdown",
      "source": [
        "# Consultas"
      ],
      "metadata": {
        "id": "8bUoqjUe0irX"
      }
    },
    {
      "cell_type": "code",
      "source": [
        "class Neo4jConnection:\n",
        "  def __init__(self, uri, user, pwd):\n",
        "    self.__uri = uri\n",
        "    self.__user = user\n",
        "    self.__pwd = pwd\n",
        "    self.__driver = None\n",
        "    try:\n",
        "        self.__driver = GraphDatabase.driver(self.__uri, auth=(self.__user, self.__pwd))\n",
        "    except Exception as e:\n",
        "        print(\"Failed to create the driver:\", e)\n",
        "\n",
        "  def close(self):\n",
        "    if self.__driver is not None:\n",
        "        self.__driver.close()\n",
        "\n",
        "  def query(self, query, parameters=None, db=None):\n",
        "    assert self.__driver is not None, \"Driver not initialized!\"\n",
        "    session = None\n",
        "    response = None\n",
        "    try:\n",
        "      session = self.__driver.session(database=db) if db is not None else self.__driver.session()\n",
        "      response = list(session.run(query, parameters))\n",
        "    except Exception as e:\n",
        "      print(\"Query failed:\", e)\n",
        "    finally:\n",
        "      if session is not None:\n",
        "        session.close()\n",
        "    return response\n",
        "\n",
        "conn = Neo4jConnection(uri=url,\n",
        "                       user=usuario,\n",
        "                       pwd=senha)\n",
        "\n",
        "def consultar(query):\n",
        "  return conn.query(query)\n",
        "  # for line in conn.query(query):\n",
        "  #   print(dict(line))"
      ],
      "metadata": {
        "id": "FPiwFFtyzqJy"
      },
      "execution_count": 3,
      "outputs": []
    },
    {
      "cell_type": "code",
      "source": [
        "#####\n",
        "# Match (a:Nó)-[r:Relacao]->(b:Nó)\n",
        "####\n",
        "\n",
        "print(\"Amigos de João:\\n\")\n",
        "\n",
        "consultar(\"\"\"\n",
        "MATCH (joao:PESSOA {nome: 'João'})-[tipo:AMIGO]->(amigo:PESSOA)\n",
        "RETURN joao.nome, amigo.nome, tipo.nivel\n",
        "\"\"\")"
      ],
      "metadata": {
        "colab": {
          "base_uri": "https://localhost:8080/"
        },
        "id": "x_vHuqePz9sy",
        "outputId": "2f285359-cd30-4e74-8a79-1d01d6efdde0"
      },
      "execution_count": 5,
      "outputs": [
        {
          "output_type": "stream",
          "name": "stdout",
          "text": [
            "Amigos de João:\n",
            "\n"
          ]
        },
        {
          "output_type": "execute_result",
          "data": {
            "text/plain": [
              "[<Record joao.nome='João' amigo.nome='Denise' tipo.nivel='bff'>,\n",
              " <Record joao.nome='João' amigo.nome='Maria' tipo.nivel='conhecido'>]"
            ]
          },
          "metadata": {},
          "execution_count": 5
        }
      ]
    },
    {
      "cell_type": "code",
      "source": [
        "print(\"\\nSó os melhores amigos de João:\\n\")\n",
        "\n",
        "consultar(\"\"\"\n",
        "MATCH (joao:PESSOA {nome: 'João'})-[tipo:AMIGO {nivel: \"bff\"}]->(amigo:PESSOA)\n",
        "RETURN joao.nome, amigo.nome AS amigo_nome, tipo.nivel\n",
        "\"\"\")"
      ],
      "metadata": {
        "colab": {
          "base_uri": "https://localhost:8080/"
        },
        "id": "ZcolqOaV0FhS",
        "outputId": "707c829b-7722-4766-bd24-76fdb4e0e99c"
      },
      "execution_count": 4,
      "outputs": [
        {
          "output_type": "stream",
          "name": "stdout",
          "text": [
            "\n",
            "Só os melhores amigos de João:\n",
            "\n"
          ]
        },
        {
          "output_type": "execute_result",
          "data": {
            "text/plain": [
              "[<Record joao.nome='João' amigo_nome='Denise' tipo.nivel='bff'>]"
            ]
          },
          "metadata": {},
          "execution_count": 4
        }
      ]
    },
    {
      "cell_type": "code",
      "source": [
        "print(\"\\nAmigos de amigos de João:\\n\")\n",
        "\n",
        "consultar(\"\"\"\n",
        "MATCH (joao:PESSOA {nome: 'João'})-[:AMIGO]->()-[:AMIGO]->(amigo_de_amigo:PESSOA)\n",
        "RETURN joao.nome, amigo_de_amigo.nome\n",
        "\"\"\")"
      ],
      "metadata": {
        "colab": {
          "base_uri": "https://localhost:8080/"
        },
        "id": "SkRSCkEt0I1l",
        "outputId": "e76ba795-fa9f-47ac-b7a3-c68ff0eecbd5"
      },
      "execution_count": 6,
      "outputs": [
        {
          "output_type": "stream",
          "name": "stdout",
          "text": [
            "\n",
            "Amigos de amigos de João:\n",
            "\n"
          ]
        },
        {
          "output_type": "execute_result",
          "data": {
            "text/plain": [
              "[<Record joao.nome='João' amigo_de_amigo.nome='Denise'>]"
            ]
          },
          "metadata": {},
          "execution_count": 6
        }
      ]
    },
    {
      "cell_type": "code",
      "source": [
        "print(\"\\nQuem gosta de Denise:\\n\")\n",
        "\n",
        "consultar(\"\"\"\n",
        "MATCH (pessoa:PESSOA)-[:AMIGO]->(denise:PESSOA {nome: 'Denise'})\n",
        "RETURN pessoa.nome\n",
        "\"\"\")"
      ],
      "metadata": {
        "colab": {
          "base_uri": "https://localhost:8080/"
        },
        "id": "hP3nT3fM0M3q",
        "outputId": "556b9188-9acc-4989-eaa6-881f7df47fa5"
      },
      "execution_count": 7,
      "outputs": [
        {
          "output_type": "stream",
          "name": "stdout",
          "text": [
            "\n",
            "Quem gosta de Denise:\n",
            "\n"
          ]
        },
        {
          "output_type": "execute_result",
          "data": {
            "text/plain": [
              "[<Record pessoa.nome='Kelly'>,\n",
              " <Record pessoa.nome='João'>,\n",
              " <Record pessoa.nome='Maria'>]"
            ]
          },
          "metadata": {},
          "execution_count": 7
        }
      ]
    },
    {
      "cell_type": "code",
      "source": [
        "print(\"\\nAmigos que começam por J:\\n\")\n",
        "\n",
        "consultar(\"\"\"\n",
        "MATCH (pessoa:PESSOA)-[:AMIGO]->(amigo)\n",
        "WHERE pessoa.nome IN ['Théo', 'Kelly'] AND amigo.nome =~ 'J.*'\n",
        "RETURN pessoa.nome, amigo.nome\n",
        "\"\"\")"
      ],
      "metadata": {
        "colab": {
          "base_uri": "https://localhost:8080/"
        },
        "id": "U4pCMZTF0QiS",
        "outputId": "0dde5222-103d-449d-c62c-ebe1a56817e1"
      },
      "execution_count": 8,
      "outputs": [
        {
          "output_type": "stream",
          "name": "stdout",
          "text": [
            "\n",
            "Amigos que começam por J:\n",
            "\n"
          ]
        },
        {
          "output_type": "execute_result",
          "data": {
            "text/plain": [
              "[<Record pessoa.nome='Kelly' amigo.nome='João'>]"
            ]
          },
          "metadata": {},
          "execution_count": 8
        }
      ]
    },
    {
      "cell_type": "code",
      "source": [
        "print(\"\\nQuem gosta de Denise:\\n\")\n",
        "\n",
        "consultar(\"\"\"\n",
        "MATCH (pessoa:PESSOA)-[:AMIGO]->(denise: PESSOA{nome: 'Denise'})\n",
        "RETURN pessoa.nome\n",
        "\"\"\")"
      ],
      "metadata": {
        "colab": {
          "base_uri": "https://localhost:8080/"
        },
        "id": "rZsY17yp0Syd",
        "outputId": "489b8d54-84bb-4504-9078-783c7d380d45"
      },
      "execution_count": null,
      "outputs": [
        {
          "output_type": "stream",
          "name": "stdout",
          "text": [
            "\n",
            "Quem gosta de Denise:\n",
            "\n"
          ]
        },
        {
          "output_type": "execute_result",
          "data": {
            "text/plain": [
              "[<Record pessoa.nome='Kelly'>,\n",
              " <Record pessoa.nome='João'>,\n",
              " <Record pessoa.nome='Maria'>]"
            ]
          },
          "metadata": {},
          "execution_count": 16
        }
      ]
    },
    {
      "cell_type": "code",
      "source": [
        "# https://neo4j.com/docs/cypher-manual/current/syntax/patterns/#cypher-pattern-label\n",
        "\n",
        "print(\"\\nQuantas pessoas têm 2 gostam de alguém:\\n\")\n",
        "\n",
        "consultar(\"\"\"\n",
        "MATCH (pessoa:PESSOA)-[*2]->()\n",
        "RETURN DISTINCT pessoa.nome\n",
        "\"\"\")"
      ],
      "metadata": {
        "colab": {
          "base_uri": "https://localhost:8080/"
        },
        "id": "oKdDaGHu0U4t",
        "outputId": "f0eb8e69-164a-4f5b-e121-a023c87bbd53"
      },
      "execution_count": null,
      "outputs": [
        {
          "output_type": "stream",
          "name": "stdout",
          "text": [
            "\n",
            "Quantas pessoas têm 2 gostam de alguém:\n",
            "\n"
          ]
        },
        {
          "output_type": "execute_result",
          "data": {
            "text/plain": [
              "[<Record pessoa.nome='Kelly'>,\n",
              " <Record pessoa.nome='João'>,\n",
              " <Record pessoa.nome='Maria'>,\n",
              " <Record pessoa.nome='David'>,\n",
              " <Record pessoa.nome='Ana'>,\n",
              " <Record pessoa.nome='Luiza'>,\n",
              " <Record pessoa.nome='Roberto'>,\n",
              " <Record pessoa.nome='Felipe'>,\n",
              " <Record pessoa.nome='Carlos'>,\n",
              " <Record pessoa.nome='Júlia'>,\n",
              " <Record pessoa.nome='Amanda'>,\n",
              " <Record pessoa.nome='Gabriel'>]"
            ]
          },
          "metadata": {},
          "execution_count": 17
        }
      ]
    },
    {
      "cell_type": "code",
      "source": [
        "print(\"\\nPessoas com 2 amigos:\\n\")\n",
        "\n",
        "consultar(\"\"\"\n",
        "MATCH (pessoa:PESSOA)-[:AMIGO]-(amigo:PESSOA)\n",
        "WITH pessoa, count(amigo) AS qtdAmigos\n",
        "WHERE qtdAmigos = 2\n",
        "RETURN pessoa.nome, qtdAmigos\n",
        "\"\"\")"
      ],
      "metadata": {
        "colab": {
          "base_uri": "https://localhost:8080/"
        },
        "id": "YIiSpZAh0WnE",
        "outputId": "46f7a0a8-fc43-4f1c-e101-f912a6f4a730"
      },
      "execution_count": null,
      "outputs": [
        {
          "output_type": "stream",
          "name": "stdout",
          "text": [
            "\n",
            "Pessoas com 2 amigos:\n",
            "\n"
          ]
        },
        {
          "output_type": "execute_result",
          "data": {
            "text/plain": [
              "[<Record pessoa.nome='Horácio' qtdAmigos=2>,\n",
              " <Record pessoa.nome='José' qtdAmigos=2>,\n",
              " <Record pessoa.nome='Roberto' qtdAmigos=2>,\n",
              " <Record pessoa.nome='Carlos' qtdAmigos=2>,\n",
              " <Record pessoa.nome='Amanda' qtdAmigos=2>,\n",
              " <Record pessoa.nome='Ricardo' qtdAmigos=2>,\n",
              " <Record pessoa.nome='Gabriel' qtdAmigos=2>]"
            ]
          },
          "metadata": {},
          "execution_count": 18
        }
      ]
    },
    {
      "cell_type": "code",
      "source": [
        "print(\"\\nQuantas pessoas têm 2 a 3 gostam de alguém:\\n\")\n",
        "\n",
        "consultar(\"\"\"\n",
        "MATCH (pessoa:PESSOA)-[*2..3]->()\n",
        "RETURN DISTINCT pessoa.nome\n",
        "\"\"\")"
      ],
      "metadata": {
        "colab": {
          "base_uri": "https://localhost:8080/"
        },
        "id": "RJuThBZW0XnD",
        "outputId": "10defc44-1676-4188-cdf9-b6a0ba4925ce"
      },
      "execution_count": null,
      "outputs": [
        {
          "output_type": "stream",
          "name": "stdout",
          "text": [
            "\n",
            "Quantas pessoas têm 2 a 3 gostam de alguém:\n",
            "\n"
          ]
        },
        {
          "output_type": "execute_result",
          "data": {
            "text/plain": [
              "[<Record pessoa.nome='Kelly'>,\n",
              " <Record pessoa.nome='João'>,\n",
              " <Record pessoa.nome='Maria'>,\n",
              " <Record pessoa.nome='David'>,\n",
              " <Record pessoa.nome='Ana'>,\n",
              " <Record pessoa.nome='Luiza'>,\n",
              " <Record pessoa.nome='Roberto'>,\n",
              " <Record pessoa.nome='Felipe'>,\n",
              " <Record pessoa.nome='Carlos'>,\n",
              " <Record pessoa.nome='Júlia'>,\n",
              " <Record pessoa.nome='Amanda'>,\n",
              " <Record pessoa.nome='Gabriel'>]"
            ]
          },
          "metadata": {},
          "execution_count": 19
        }
      ]
    }
  ]
}